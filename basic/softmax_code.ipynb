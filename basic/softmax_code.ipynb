{
 "cells": [
  {
   "cell_type": "code",
   "execution_count": null,
   "metadata": {},
   "outputs": [],
   "source": [
    "from mxnet import nd\n",
    "\n",
    "num_inputs  = 4\n",
    "num_outputs = 3\n",
    "batch_size = 256\n",
    "\n",
    "X = nd.ones((batch_size, num_inputs))\n",
    "W = nd.random.normal(scale=0.01, shape=(num_inputs, num_outputs))\n",
    "b = nd.zeros(num_outputs)\n",
    "\n",
    "y = softmax(nd.dot(X, W) + b)\n",
    "\n",
    "print(X.shape, W.shape, b.shape, y.shape)"
   ]
  },
  {
   "cell_type": "code",
   "execution_count": null,
   "metadata": {},
   "outputs": [],
   "source": [
    "import os\n",
    "import sys\n",
    "from mxnet.gluon import data as gdata\n",
    "\n",
    "def load_data_alerts(batch_size, root=os.path.join('~', '.mxnet', 'datasets', 'alerts')):\n",
    "    root = os.path.expanduser(root)\n",
    "    transformer = []\n",
    "        \n",
    "    transformer += [gdata.vision.transforms.ToTensor()]\n",
    "    transformer = gdata.vision.transforms.Compose(transformer)\n",
    "\n",
    "    mnist_train = gdata.vision.FashionMNIST(root=root, train=True)\n",
    "    mnist_test = gdata.vision.FashionMNIST(root=root, train=False)\n",
    "    num_workers = 0 if sys.platform.startswith('win32') else 4\n",
    "    \n",
    "    train_iter = gdata.DataLoader(mnist_train.transform_first(transformer),\n",
    "                                  batch_size, shuffle=True,\n",
    "                                  num_workers=num_workers)\n",
    "    \n",
    "    test_iter = gdata.DataLoader(mnist_test.transform_first(transformer),\n",
    "                                 batch_size, shuffle=False,\n",
    "                                 num_workers=num_workers)\n",
    "    \n",
    "    return train_iter, test_iter"
   ]
  }
 ],
 "metadata": {
  "kernelspec": {
   "display_name": "Python 3",
   "language": "python",
   "name": "python3"
  },
  "language_info": {
   "codemirror_mode": {
    "name": "ipython",
    "version": 3
   },
   "file_extension": ".py",
   "mimetype": "text/x-python",
   "name": "python",
   "nbconvert_exporter": "python",
   "pygments_lexer": "ipython3",
   "version": "3.6.7"
  }
 },
 "nbformat": 4,
 "nbformat_minor": 2
}

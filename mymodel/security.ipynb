{
 "cells": [
  {
   "cell_type": "code",
   "execution_count": 20,
   "metadata": {},
   "outputs": [
    {
     "data": {
      "text/plain": [
       "(\n",
       " [0.47347066 1.458093   3.2604914 ]\n",
       " <NDArray 3 @cpu(0)>, \n",
       " [[-0.5385921  -0.8611333  -1.8815191 ]\n",
       "  [-0.7205708  -0.3560157  -0.15963984]\n",
       "  [ 1.7974477   0.19594945 -1.7376398 ]]\n",
       " <NDArray 3x3 @cpu(0)>, \n",
       " [ 0.04578783 -0.08942582  0.04938394]\n",
       " <NDArray 3 @cpu(0)>)"
      ]
     },
     "execution_count": 20,
     "metadata": {},
     "output_type": "execute_result"
    }
   ],
   "source": [
    "from mxnet import nd\n",
    "W = nd.random.normal(0, 1, shape=(3,3))\n",
    "x = nd.random.normal(0, 10, shape=(3,))\n",
    "b = nd.random.normal(0, 0.1, shape=(3,))\n",
    "x, W, b"
   ]
  },
  {
   "cell_type": "code",
   "execution_count": null,
   "metadata": {},
   "outputs": [],
   "source": []
  }
 ],
 "metadata": {
  "kernelspec": {
   "display_name": "Python 3",
   "language": "python",
   "name": "python3"
  },
  "language_info": {
   "codemirror_mode": {
    "name": "ipython",
    "version": 3
   },
   "file_extension": ".py",
   "mimetype": "text/x-python",
   "name": "python",
   "nbconvert_exporter": "python",
   "pygments_lexer": "ipython3",
   "version": "3.6.7"
  }
 },
 "nbformat": 4,
 "nbformat_minor": 2
}

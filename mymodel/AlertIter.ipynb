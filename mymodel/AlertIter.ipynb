{
 "cells": [
  {
   "cell_type": "code",
   "execution_count": 3,
   "metadata": {},
   "outputs": [],
   "source": [
    "from mxnet.io import DataBatch\n",
    "\n",
    "class AlertIter:\n",
    "    def __init__(self, iter_list):\n",
    "        self.iters = iter_list\n",
    "    def next(self):\n",
    "        batches = [i.next() for i in self.iters]\n",
    "        return DataBatch(data=[b.data for b in batches], label=[b.label for b in batches])\n",
    "    def reset(self):\n",
    "        for i in self.iters:\n",
    "            i.reset()\n",
    "    \n",
    "    @property\n",
    "    def provide_data(self):\n",
    "        return [i.provide_data for i in self.iters]\n",
    "    \n",
    "    @property\n",
    "    def provide_label(self):\n",
    "        return [i.provide_label for i in self.iters]"
   ]
  },
  {
   "cell_type": "code",
   "execution_count": 4,
   "metadata": {},
   "outputs": [],
   "source": [
    "import gluonbook as gb\n",
    "import numpy as np\n",
    "import pandas as pd\n",
    "import sys\n",
    "from mxnet.gluon import data as gdata\n",
    "from mxnet.gluon.data import DataLoader\n",
    "from mxnet.gluon.data.dataset import ArrayDataset\n",
    "from mxnet.io import NDArrayIter\n",
    "\n",
    "train_data = np.array(pd.read_csv('./data/alert/train.csv').values)\n",
    "test_data = np.array(pd.read_csv('./data/alert/test.csv').values)\n",
    "\n",
    "batch_size = 2\n",
    "num_inputs = 4\n",
    "num_outputs = 3\n",
    "num_workers = 0 if sys.platform.startswith('win32') else 4\n",
    "\n",
    "train_iter = NDArrayIter(\n",
    "    data={'data': train_data[:, 0:num_inputs]},\n",
    "    label={'softmax_label': train_data[:, num_inputs]},\n",
    "    batch_size=batch_size\n",
    ")\n",
    "\n",
    "test_iter = NDArrayIter(\n",
    "    data={'data': test_data[:, 0:num_inputs]},\n",
    "    label={'softmax_label': test_data[:, num_inputs]},\n",
    "    batch_size=batch_size\n",
    ")"
   ]
  },
  {
   "cell_type": "code",
   "execution_count": 6,
   "metadata": {},
   "outputs": [
    {
     "ename": "AttributeError",
     "evalue": "'AlertIter' object has no attribute 'shape'",
     "output_type": "error",
     "traceback": [
      "\u001b[0;31m---------------------------------------------------------------------------\u001b[0m",
      "\u001b[0;31mAttributeError\u001b[0m                            Traceback (most recent call last)",
      "\u001b[0;32m<ipython-input-6-de764b88f45b>\u001b[0m in \u001b[0;36m<module>\u001b[0;34m\u001b[0m\n\u001b[1;32m      1\u001b[0m \u001b[0miter\u001b[0m \u001b[0;34m=\u001b[0m \u001b[0mAlertIter\u001b[0m\u001b[0;34m(\u001b[0m\u001b[0;34m[\u001b[0m\u001b[0mtrain_iter\u001b[0m\u001b[0;34m,\u001b[0m \u001b[0mtest_iter\u001b[0m\u001b[0;34m]\u001b[0m\u001b[0;34m)\u001b[0m\u001b[0;34m\u001b[0m\u001b[0;34m\u001b[0m\u001b[0m\n\u001b[0;32m----> 2\u001b[0;31m \u001b[0miter\u001b[0m\u001b[0;34m.\u001b[0m\u001b[0mshape\u001b[0m\u001b[0;34m\u001b[0m\u001b[0;34m\u001b[0m\u001b[0m\n\u001b[0m",
      "\u001b[0;31mAttributeError\u001b[0m: 'AlertIter' object has no attribute 'shape'"
     ]
    }
   ],
   "source": [
    "iter = AlertIter([train_iter, test_iter])"
   ]
  },
  {
   "cell_type": "code",
   "execution_count": null,
   "metadata": {},
   "outputs": [],
   "source": []
  }
 ],
 "metadata": {
  "kernelspec": {
   "display_name": "Python 3",
   "language": "python",
   "name": "python3"
  },
  "language_info": {
   "codemirror_mode": {
    "name": "ipython",
    "version": 3
   },
   "file_extension": ".py",
   "mimetype": "text/x-python",
   "name": "python",
   "nbconvert_exporter": "python",
   "pygments_lexer": "ipython3",
   "version": "3.6.7"
  }
 },
 "nbformat": 4,
 "nbformat_minor": 2
}

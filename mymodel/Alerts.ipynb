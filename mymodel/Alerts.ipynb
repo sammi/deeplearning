{
 "cells": [
  {
   "cell_type": "markdown",
   "metadata": {},
   "source": [
    "# Get alert history for all devices"
   ]
  },
  {
   "cell_type": "code",
   "execution_count": 1,
   "metadata": {},
   "outputs": [],
   "source": [
    "import os\n",
    "import sys\n",
    "from mxnet.gluon import data as gdata\n",
    "\n",
    "def load_data_alerts(batch_size, root=os.path.join('~', '.mxnet', 'datasets', 'alerts')):\n",
    "    root = os.path.expanduser(root)\n",
    "    transformer = []\n",
    "        \n",
    "    transformer += [gdata.vision.transforms.ToTensor()]\n",
    "    transformer = gdata.vision.transforms.Compose(transformer)\n",
    "\n",
    "    mnist_train = gdata.vision.FashionMNIST(root=root, train=True)\n",
    "    mnist_test = gdata.vision.FashionMNIST(root=root, train=False)\n",
    "    num_workers = 0 if sys.platform.startswith('win32') else 4\n",
    "    \n",
    "    train_iter = gdata.DataLoader(mnist_train.transform_first(transformer),\n",
    "                                  batch_size, shuffle=True,\n",
    "                                  num_workers=num_workers)\n",
    "    \n",
    "    test_iter = gdata.DataLoader(mnist_test.transform_first(transformer),\n",
    "                                 batch_size, shuffle=False,\n",
    "                                 num_workers=num_workers)\n",
    "    \n",
    "    return train_iter, test_iter"
   ]
  },
  {
   "cell_type": "code",
   "execution_count": 2,
   "metadata": {},
   "outputs": [],
   "source": [
    "from mxnet import autograd, nd\n",
    "\n",
    "num_inputs = 784\n",
    "num_outputs = 10\n",
    "batch_size = 256\n",
    "\n",
    "train_iter, test_iter = load_data_alerts(batch_size)\n",
    "\n",
    "W = nd.random.normal(scale=0.01, shape=(num_inputs, num_outputs))\n",
    "b = nd.zeros(num_outputs)\n",
    "params = [W, b]\n",
    "\n",
    "for param in params:\n",
    "    param.attach_grad()"
   ]
  },
  {
   "cell_type": "code",
   "execution_count": 3,
   "metadata": {},
   "outputs": [],
   "source": [
    "def softmax(X):\n",
    "    X_exp = nd.exp(X)\n",
    "    partition = X_exp.sum(axis=1, keepdims=True)\n",
    "    return X_exp / partition"
   ]
  },
  {
   "cell_type": "code",
   "execution_count": 4,
   "metadata": {},
   "outputs": [],
   "source": [
    "def net(X):\n",
    "    return softmax(nd.dot(X.reshape(-1, num_inputs), W) + b)"
   ]
  },
  {
   "cell_type": "code",
   "execution_count": 5,
   "metadata": {},
   "outputs": [],
   "source": [
    "def cross_entropy(y_hat, y):\n",
    "    return - nd.pick(y_hat, y).log()"
   ]
  },
  {
   "cell_type": "code",
   "execution_count": 6,
   "metadata": {},
   "outputs": [],
   "source": [
    "def accuracy(y_hat, y):\n",
    "    return (y_hat.argmax(axis=1) == y.astype('float32')).mean().asscalar()"
   ]
  },
  {
   "cell_type": "code",
   "execution_count": 7,
   "metadata": {},
   "outputs": [],
   "source": [
    "def evaluate_accuracy(data_iter, net):\n",
    "    acc = 0.\n",
    "    for X, y in data_iter:\n",
    "        acc += accuracy(net(X), y)\n",
    "    return acc / len(data_iter)"
   ]
  },
  {
   "cell_type": "code",
   "execution_count": 8,
   "metadata": {},
   "outputs": [
    {
     "data": {
      "text/plain": [
       "0.09453125"
      ]
     },
     "execution_count": 8,
     "metadata": {},
     "output_type": "execute_result"
    }
   ],
   "source": [
    "evaluate_accuracy(test_iter, net)"
   ]
  },
  {
   "cell_type": "code",
   "execution_count": 9,
   "metadata": {},
   "outputs": [],
   "source": [
    "def SGD(params, lr):\n",
    "    for param in params:\n",
    "        param[:] = param - lr * param.grad"
   ]
  },
  {
   "cell_type": "code",
   "execution_count": 10,
   "metadata": {},
   "outputs": [
    {
     "name": "stdout",
     "output_type": "stream",
     "text": [
      "Epoch 1. Loss: 0.802150, Train acc 0.738691, Test acc 0.798047\n",
      "Epoch 2. Loss: 0.585872, Train acc 0.806527, Test acc 0.815820\n",
      "Epoch 3. Loss: 0.556710, Train acc 0.814268, Test acc 0.817871\n",
      "Epoch 4. Loss: 0.524453, Train acc 0.822645, Test acc 0.829395\n",
      "Epoch 5. Loss: 0.523110, Train acc 0.824346, Test acc 0.835254\n"
     ]
    }
   ],
   "source": [
    "from mxnet import autograd\n",
    "\n",
    "num_epochs, learning_rate = 5, 0.1\n",
    "\n",
    "for epoch in range(num_epochs):\n",
    "    train_loss = 0.\n",
    "    train_acc = 0.\n",
    "    for X, y in train_iter:\n",
    "        with autograd.record():\n",
    "            y_hat = net(X)\n",
    "            loss = cross_entropy(y_hat, y)\n",
    "        loss.backward()\n",
    "        \n",
    "        SGD(params, learning_rate / batch_size)\n",
    "        \n",
    "        train_loss += loss.mean().asscalar()\n",
    "        train_acc += accuracy(y_hat, y)\n",
    "        \n",
    "    test_acc = evaluate_accuracy(test_iter, net)\n",
    "\n",
    "    print(\"Epoch %d. Loss: %f, Train acc %f, Test acc %f\" % (\n",
    "        epoch + 1, train_loss/len(train_iter), train_acc/len(train_iter), test_acc))\n"
   ]
  },
  {
   "cell_type": "code",
   "execution_count": 11,
   "metadata": {},
   "outputs": [
    {
     "data": {
      "text/plain": [
       "[\n",
       " [[ 0.02208608  0.00773389  0.01038804 ... -0.0045156   0.00577459\n",
       "   -0.01856295]\n",
       "  [-0.01968029 -0.00208902  0.00238516 ...  0.01465095  0.00689538\n",
       "    0.00358461]\n",
       "  [ 0.01145082  0.00107873 -0.010196   ... -0.01077379 -0.01143824\n",
       "   -0.01332576]\n",
       "  ...\n",
       "  [-0.01379873 -0.0178848   0.04781896 ... -0.00039847 -0.01541492\n",
       "   -0.00778142]\n",
       "  [-0.00794938  0.01271872 -0.00818972 ... -0.02308376 -0.02098199\n",
       "    0.0022121 ]\n",
       "  [-0.01107594  0.00097882  0.00648582 ...  0.0037565  -0.00105099\n",
       "    0.00027636]]\n",
       " <NDArray 784x10 @cpu(0)>, \n",
       " [ 0.12101663 -0.15155849 -0.09033381  0.0780093  -0.62617314  1.4327859\n",
       "   0.3022117  -0.11178205 -0.31675348 -0.63742304]\n",
       " <NDArray 10 @cpu(0)>]"
      ]
     },
     "execution_count": 11,
     "metadata": {},
     "output_type": "execute_result"
    }
   ],
   "source": [
    "params"
   ]
  },
  {
   "cell_type": "code",
   "execution_count": null,
   "metadata": {},
   "outputs": [],
   "source": []
  }
 ],
 "metadata": {
  "kernelspec": {
   "display_name": "Python 3",
   "language": "python",
   "name": "python3"
  },
  "language_info": {
   "codemirror_mode": {
    "name": "ipython",
    "version": 3
   },
   "file_extension": ".py",
   "mimetype": "text/x-python",
   "name": "python",
   "nbconvert_exporter": "python",
   "pygments_lexer": "ipython3",
   "version": "3.6.7"
  }
 },
 "nbformat": 4,
 "nbformat_minor": 2
}

{
 "cells": [
  {
   "cell_type": "code",
   "execution_count": 1,
   "metadata": {},
   "outputs": [
    {
     "name": "stdout",
     "output_type": "stream",
     "text": [
      "(256, 1, 28, 28) (256,)\n"
     ]
    }
   ],
   "source": [
    "import gluonbook as gb\n",
    "import numpy as np\n",
    "import pandas as pd\n",
    "from mxnet.gluon.data import DataLoader\n",
    "from mxnet.gluon.data.dataset import ArrayDataset\n",
    "\n",
    "train_data = np.array(pd.read_csv('./data/alert/train.csv').values)\n",
    "test_data = np.array(pd.read_csv('./data/alert/test.csv').values)\n",
    "\n",
    "batch_size = 256\n",
    "num_inputs = 4\n",
    "num_outputs = 3\n",
    "num_workers = 0\n",
    "\n",
    "# train_iter = DataLoader(\n",
    "#     ArrayDataset(train_data[:, 0:num_inputs], train_data[:, num_inputs]),\n",
    "#     batch_size = batch_size,\n",
    "#     num_workers= num_workers\n",
    "# )\n",
    "\n",
    "# test_iter = DataLoader(\n",
    "#     ArrayDataset(test_data[:, 0:num_inputs], test_data[:, num_inputs]),\n",
    "#     batch_size = batch_size,\n",
    "#     num_workers= num_workers\n",
    "# )\n",
    "\n",
    "train_iter, test_iter = gb.load_data_fashion_mnist(batch_size)\n",
    "\n",
    "\n",
    "for feature, label in test_iter:\n",
    "    print(feature.shape, label.shape)\n",
    "    break"
   ]
  },
  {
   "cell_type": "code",
   "execution_count": 2,
   "metadata": {},
   "outputs": [],
   "source": [
    "from mxnet import gluon, init, autograd\n",
    "from mxnet.gluon import loss as gloss, nn\n",
    "\n",
    "net = nn.Sequential()\n",
    "net.add(nn.Dense(num_outputs))\n",
    "net.initialize(init.Normal(sigma=0.01))\n",
    "\n",
    "loss = gloss.SoftmaxCrossEntropyLoss()\n",
    "\n",
    "trainer = gluon.Trainer(net.collect_params(), 'sgd', {'learning_rate': 0.1})"
   ]
  },
  {
   "cell_type": "code",
   "execution_count": 3,
   "metadata": {},
   "outputs": [
    {
     "name": "stdout",
     "output_type": "stream",
     "text": [
      "epoch 1, loss 0.1937, train acc 0.258, test acc 0.261\n",
      "epoch 2, loss 0.1475, train acc 0.267, test acc 0.271\n",
      "epoch 3, loss 0.1395, train acc 0.268, test acc 0.264\n",
      "epoch 4, loss 0.1355, train acc 0.269, test acc 0.265\n",
      "epoch 5, loss 0.1324, train acc 0.269, test acc 0.267\n"
     ]
    }
   ],
   "source": [
    "import mxnet as mx\n",
    "\n",
    "num_epochs = 5\n",
    "\n",
    "gb.train_ch3(net, train_iter, test_iter, loss, num_epochs, batch_size, None, None, trainer)"
   ]
  },
  {
   "cell_type": "code",
   "execution_count": null,
   "metadata": {},
   "outputs": [],
   "source": []
  }
 ],
 "metadata": {
  "kernelspec": {
   "display_name": "Python 3",
   "language": "python",
   "name": "python3"
  },
  "language_info": {
   "codemirror_mode": {
    "name": "ipython",
    "version": 3
   },
   "file_extension": ".py",
   "mimetype": "text/x-python",
   "name": "python",
   "nbconvert_exporter": "python",
   "pygments_lexer": "ipython3",
   "version": "3.6.7"
  }
 },
 "nbformat": 4,
 "nbformat_minor": 2
}

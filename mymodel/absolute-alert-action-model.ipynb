{
 "cells": [
  {
   "cell_type": "code",
   "execution_count": 1,
   "metadata": {},
   "outputs": [],
   "source": [
    "from mxnet import nd\n",
    "W = nd.random.normal(scale=1, shape=(3, 3))\n",
    "x = nd.random.normal(scale=1, shape=(3))\n",
    "b = nd.random.normal(scale=1, shape=(3))"
   ]
  },
  {
   "cell_type": "code",
   "execution_count": 2,
   "metadata": {},
   "outputs": [
    {
     "data": {
      "text/plain": [
       "(\n",
       " [[ 2.2122064   0.7740038   1.0434403 ]\n",
       "  [ 1.1839255   1.8917114  -1.2347414 ]\n",
       "  [-1.771029   -0.45138445  0.57938355]]\n",
       " <NDArray 3x3 @cpu(0)>, \n",
       " [-1.856082   -1.9768796  -0.20801921]\n",
       " <NDArray 3 @cpu(0)>, \n",
       " [ 0.2444218  -0.03716067 -0.48774993]\n",
       " <NDArray 3 @cpu(0)>)"
      ]
     },
     "execution_count": 2,
     "metadata": {},
     "output_type": "execute_result"
    }
   ],
   "source": [
    "W, x, b"
   ]
  },
  {
   "cell_type": "code",
   "execution_count": 5,
   "metadata": {},
   "outputs": [],
   "source": [
    "def get_alert_label(labels):\n",
    "    text_labels=['Device Freez', 'Data Delete', 'Report Stolen Device']\n",
    "    return [text_labels[int(i)] for i in labels]"
   ]
  },
  {
   "cell_type": "code",
   "execution_count": null,
   "metadata": {},
   "outputs": [],
   "source": []
  }
 ],
 "metadata": {
  "kernelspec": {
   "display_name": "Python 3",
   "language": "python",
   "name": "python3"
  },
  "language_info": {
   "codemirror_mode": {
    "name": "ipython",
    "version": 3
   },
   "file_extension": ".py",
   "mimetype": "text/x-python",
   "name": "python",
   "nbconvert_exporter": "python",
   "pygments_lexer": "ipython3",
   "version": "3.6.7"
  }
 },
 "nbformat": 4,
 "nbformat_minor": 2
}

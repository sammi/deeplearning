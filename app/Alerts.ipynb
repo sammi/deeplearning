{
 "cells": [
  {
   "cell_type": "markdown",
   "metadata": {},
   "source": [
    "# Get alert history for all devices"
   ]
  },
  {
   "cell_type": "code",
   "execution_count": null,
   "metadata": {},
   "outputs": [],
   "source": [
    "from mxnet import nd\n",
    "from mxnet.gluon.data import DataLoader\n",
    "from mxnet.gluon.data.dataset import ArrayDataset\n",
    "from multiprocessing import cpu_count\n",
    "import pandas as pd\n",
    "import numpy as np\n",
    "\n",
    "def load_data_alerts_from_csv(batch_size):\n",
    "    num_workers = 0\n",
    "    features = ['f1', 'f2', 'f3', 'f4']\n",
    "    label = ['a']\n",
    "\n",
    "    train_features = pd.read_csv('../data/alert/train.csv', usecols=features).values\n",
    "    train_labels = pd.read_csv('../data/alert/train.csv', usecols=label).values\n",
    "\n",
    "    test_features  = pd.read_csv('../data/alert/test.csv', usecols=features).values\n",
    "    test_labels  = pd.read_csv('../data/alert/test.csv', usecols=label).values\n",
    "\n",
    "    train_iter = DataLoader(\n",
    "        ArrayDataset(train_features.astype('float32'), train_labels),\n",
    "        shuffle=True,\n",
    "        batch_size = batch_size,\n",
    "        num_workers= num_workers\n",
    "    )\n",
    "\n",
    "    test_iter = DataLoader(\n",
    "        ArrayDataset(test_features.astype('float32'), test_labels),\n",
    "        batch_size = batch_size,\n",
    "        num_workers= num_workers\n",
    "    )\n",
    "    \n",
    "    return train_iter, test_iter"
   ]
  },
  {
   "cell_type": "code",
   "execution_count": null,
   "metadata": {},
   "outputs": [],
   "source": [
    "from mxnet import autograd, nd\n",
    "\n",
    "num_inputs  = 4\n",
    "num_outputs = 3\n",
    "batch_size = 200\n",
    "\n",
    "train_iter, test_iter = load_data_alerts_from_csv(batch_size)\n",
    "\n",
    "W = nd.random.normal(scale=0.01, shape=(num_inputs, num_outputs))\n",
    "b = nd.zeros(num_outputs)\n",
    "params = [W, b]\n",
    "\n",
    "for param in params:\n",
    "    param.attach_grad()"
   ]
  },
  {
   "cell_type": "code",
   "execution_count": null,
   "metadata": {},
   "outputs": [],
   "source": [
    "def softmax(X):\n",
    "    X_exp = nd.exp(X)\n",
    "    partition = X_exp.sum(axis=1, keepdims=True)\n",
    "    return X_exp / partition"
   ]
  },
  {
   "cell_type": "code",
   "execution_count": null,
   "metadata": {},
   "outputs": [],
   "source": [
    "def net(X):\n",
    "    return softmax(nd.dot(X, W) + b)"
   ]
  },
  {
   "cell_type": "code",
   "execution_count": null,
   "metadata": {},
   "outputs": [],
   "source": [
    "def cross_entropy(y_hat, y):\n",
    "    return - nd.pick(y_hat, y).log()"
   ]
  },
  {
   "cell_type": "code",
   "execution_count": null,
   "metadata": {},
   "outputs": [],
   "source": [
    "def accuracy(y_hat, y):\n",
    "    return (y_hat.argmax(axis=1) == y.astype('float32')).mean().asscalar()"
   ]
  },
  {
   "cell_type": "code",
   "execution_count": null,
   "metadata": {},
   "outputs": [],
   "source": [
    "def evaluate_accuracy(data_iter, net):\n",
    "    acc = 0.\n",
    "    for X, y in data_iter:\n",
    "        y_hat = net(X)\n",
    "        acc += accuracy(y_hat, y)\n",
    "    return acc / len(data_iter)"
   ]
  },
  {
   "cell_type": "code",
   "execution_count": null,
   "metadata": {},
   "outputs": [],
   "source": [
    "def SGD(params, learning_rate):\n",
    "    for param in params:\n",
    "        param[:] = param - learning_rate * param.grad"
   ]
  },
  {
   "cell_type": "code",
   "execution_count": null,
   "metadata": {},
   "outputs": [],
   "source": [
    "import pickle\n",
    "\n",
    "from mxnet import autograd\n",
    "\n",
    "modelFileName = 'alert_params'\n",
    "\n",
    "num_epochs, learning_rate = 5000, 0.001\n",
    "\n",
    "for epoch in range(num_epochs):\n",
    "    train_loss = 0.\n",
    "    train_acc = 0.\n",
    "    for X, y in train_iter:\n",
    "        with autograd.record():\n",
    "            y_hat = net(X)\n",
    "            loss = cross_entropy(y_hat, y)\n",
    "        loss.backward()\n",
    "        \n",
    "        SGD(params, learning_rate / batch_size)\n",
    "        \n",
    "        train_loss += loss.mean().asscalar()\n",
    "        train_acc += accuracy(y_hat, y)\n",
    "        \n",
    "    test_acc = evaluate_accuracy(test_iter, net)\n",
    "\n",
    "    print(\"Epoch %d. Loss: %f, Train acc %f, Test acc %f\" % (\n",
    "        epoch + 1, train_loss/len(train_iter), train_acc/len(train_iter), test_acc))\n",
    "    \n",
    "    with open(modelFileName, 'wb') as output:\n",
    "        pickle.dump(params, output)\n"
   ]
  },
  {
   "cell_type": "code",
   "execution_count": null,
   "metadata": {},
   "outputs": [],
   "source": [
    "params"
   ]
  },
  {
   "cell_type": "code",
   "execution_count": null,
   "metadata": {},
   "outputs": [],
   "source": [
    "import pickle\n",
    "\n",
    "modelFileName = 'alert_params'\n",
    "\n",
    "with open(modelFileName, 'wb') as output:\n",
    "    pickle.dump(params, output)"
   ]
  },
  {
   "cell_type": "code",
   "execution_count": null,
   "metadata": {},
   "outputs": [],
   "source": []
  }
 ],
 "metadata": {
  "kernelspec": {
   "display_name": "Python 3",
   "language": "python",
   "name": "python3"
  },
  "language_info": {
   "codemirror_mode": {
    "name": "ipython",
    "version": 3
   },
   "file_extension": ".py",
   "mimetype": "text/x-python",
   "name": "python",
   "nbconvert_exporter": "python",
   "pygments_lexer": "ipython3",
   "version": "3.6.7"
  }
 },
 "nbformat": 4,
 "nbformat_minor": 2
}

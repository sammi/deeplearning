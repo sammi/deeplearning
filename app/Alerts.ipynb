{
 "cells": [
  {
   "cell_type": "markdown",
   "metadata": {},
   "source": [
    "# Get alert history for all devices"
   ]
  },
  {
   "cell_type": "code",
   "execution_count": 1,
   "metadata": {},
   "outputs": [],
   "source": [
    "from mxnet import nd\n",
    "from mxnet.gluon.data import DataLoader\n",
    "from mxnet.gluon.data.dataset import ArrayDataset\n",
    "from multiprocessing import cpu_count\n",
    "import pandas as pd\n",
    "import numpy as np\n",
    "\n",
    "def load_data_alerts_from_csv(batch_size):\n",
    "    num_workers = 0\n",
    "    features = ['f1', 'f2', 'f3', 'f4']\n",
    "    label = ['a']\n",
    "\n",
    "    train_features = pd.read_csv('./data/alert/train.csv', usecols=features).values\n",
    "    train_labels = pd.read_csv('./data/alert/train.csv', usecols=label).values\n",
    "\n",
    "    test_features  = pd.read_csv('./data/alert/test.csv', usecols=features).values\n",
    "    test_labels  = pd.read_csv('./data/alert/test.csv', usecols=label).values\n",
    "\n",
    "    train_iter = DataLoader(\n",
    "        ArrayDataset(train_features.astype('float32'), train_labels),\n",
    "        shuffle=True,\n",
    "        batch_size = batch_size,\n",
    "        num_workers= num_workers\n",
    "    )\n",
    "\n",
    "    test_iter = DataLoader(\n",
    "        ArrayDataset(test_features.astype('float32'), test_labels),\n",
    "        batch_size = batch_size,\n",
    "        num_workers= num_workers\n",
    "    )\n",
    "    \n",
    "    return train_iter, test_iter"
   ]
  },
  {
   "cell_type": "code",
   "execution_count": 2,
   "metadata": {},
   "outputs": [],
   "source": [
    "from mxnet import autograd, nd\n",
    "\n",
    "num_inputs  = 4\n",
    "num_outputs = 3\n",
    "batch_size = 200\n",
    "\n",
    "train_iter, test_iter = load_data_alerts_from_csv(batch_size)\n",
    "\n",
    "W = nd.random.normal(scale=0.01, shape=(num_inputs, num_outputs))\n",
    "b = nd.zeros(num_outputs)\n",
    "params = [W, b]\n",
    "\n",
    "for param in params:\n",
    "    param.attach_grad()"
   ]
  },
  {
   "cell_type": "code",
   "execution_count": 3,
   "metadata": {},
   "outputs": [],
   "source": [
    "def softmax(X):\n",
    "    X_exp = nd.exp(X)\n",
    "    partition = X_exp.sum(axis=1, keepdims=True)\n",
    "    return X_exp / partition"
   ]
  },
  {
   "cell_type": "code",
   "execution_count": 4,
   "metadata": {},
   "outputs": [],
   "source": [
    "def net(X):\n",
    "    return softmax(nd.dot(X, W) + b)"
   ]
  },
  {
   "cell_type": "code",
   "execution_count": 5,
   "metadata": {},
   "outputs": [],
   "source": [
    "def cross_entropy(y_hat, y):\n",
    "    return - nd.pick(y_hat, y).log()"
   ]
  },
  {
   "cell_type": "code",
   "execution_count": 6,
   "metadata": {},
   "outputs": [],
   "source": [
    "def accuracy(y_hat, y):\n",
    "    return (y_hat.argmax(axis=1) == y.astype('float32')).mean().asscalar()"
   ]
  },
  {
   "cell_type": "code",
   "execution_count": 7,
   "metadata": {},
   "outputs": [],
   "source": [
    "def evaluate_accuracy(data_iter, net):\n",
    "    acc = 0.\n",
    "    for X, y in data_iter:\n",
    "        y_hat = net(X)\n",
    "        acc += accuracy(y_hat, y)\n",
    "    return acc / len(data_iter)"
   ]
  },
  {
   "cell_type": "code",
   "execution_count": 8,
   "metadata": {},
   "outputs": [],
   "source": [
    "def SGD(params, learning_rate):\n",
    "    for param in params:\n",
    "        param[:] = param - learning_rate * param.grad"
   ]
  },
  {
   "cell_type": "code",
   "execution_count": 30,
   "metadata": {},
   "outputs": [
    {
     "name": "stdout",
     "output_type": "stream",
     "text": [
      "Epoch 1. Loss: 0.020629, Train acc 0.375253, Test acc 0.375000\n",
      "Epoch 2. Loss: 0.020624, Train acc 0.375781, Test acc 0.375000\n",
      "Epoch 3. Loss: 0.020620, Train acc 0.378444, Test acc 0.375000\n",
      "Epoch 4. Loss: 0.020614, Train acc 0.376214, Test acc 0.375000\n",
      "Epoch 5. Loss: 0.020609, Train acc 0.375644, Test acc 0.375000\n",
      "Epoch 6. Loss: 0.020605, Train acc 0.379436, Test acc 0.375000\n",
      "Epoch 7. Loss: 0.020599, Train acc 0.376161, Test acc 0.375000\n",
      "Epoch 8. Loss: 0.020594, Train acc 0.377139, Test acc 0.375000\n",
      "Epoch 9. Loss: 0.020589, Train acc 0.376472, Test acc 0.375000\n",
      "Epoch 10. Loss: 0.020584, Train acc 0.376542, Test acc 0.375000\n",
      "Epoch 11. Loss: 0.020579, Train acc 0.377656, Test acc 0.375000\n",
      "Epoch 12. Loss: 0.020574, Train acc 0.375817, Test acc 0.375000\n",
      "Epoch 13. Loss: 0.020569, Train acc 0.376714, Test acc 0.375000\n",
      "Epoch 14. Loss: 0.020564, Train acc 0.377358, Test acc 0.375000\n",
      "Epoch 15. Loss: 0.020559, Train acc 0.375389, Test acc 0.375000\n",
      "Epoch 16. Loss: 0.020554, Train acc 0.377117, Test acc 0.375000\n",
      "Epoch 17. Loss: 0.020549, Train acc 0.376689, Test acc 0.375000\n",
      "Epoch 18. Loss: 0.020544, Train acc 0.376703, Test acc 0.375000\n",
      "Epoch 19. Loss: 0.020538, Train acc 0.375264, Test acc 0.375000\n",
      "Epoch 20. Loss: 0.020534, Train acc 0.376906, Test acc 0.375000\n",
      "Epoch 21. Loss: 0.020528, Train acc 0.375772, Test acc 0.375000\n",
      "Epoch 22. Loss: 0.020523, Train acc 0.376431, Test acc 0.375000\n",
      "Epoch 23. Loss: 0.020518, Train acc 0.376675, Test acc 0.375000\n",
      "Epoch 24. Loss: 0.020513, Train acc 0.376336, Test acc 0.375000\n",
      "Epoch 25. Loss: 0.020509, Train acc 0.379353, Test acc 0.375000\n",
      "Epoch 26. Loss: 0.020503, Train acc 0.376369, Test acc 0.375000\n",
      "Epoch 27. Loss: 0.020499, Train acc 0.379544, Test acc 0.375000\n",
      "Epoch 28. Loss: 0.020493, Train acc 0.377444, Test acc 0.375000\n",
      "Epoch 29. Loss: 0.020488, Train acc 0.376122, Test acc 0.375000\n",
      "Epoch 30. Loss: 0.020483, Train acc 0.376411, Test acc 0.375000\n",
      "Epoch 31. Loss: 0.020478, Train acc 0.376356, Test acc 0.375000\n",
      "Epoch 32. Loss: 0.020473, Train acc 0.376669, Test acc 0.375000\n",
      "Epoch 33. Loss: 0.020469, Train acc 0.378833, Test acc 0.375000\n",
      "Epoch 34. Loss: 0.020463, Train acc 0.376678, Test acc 0.375000\n",
      "Epoch 35. Loss: 0.020458, Train acc 0.376892, Test acc 0.375000\n",
      "Epoch 36. Loss: 0.020453, Train acc 0.377283, Test acc 0.375000\n",
      "Epoch 37. Loss: 0.020448, Train acc 0.377553, Test acc 0.375000\n",
      "Epoch 38. Loss: 0.020443, Train acc 0.376358, Test acc 0.375000\n",
      "Epoch 39. Loss: 0.020439, Train acc 0.378036, Test acc 0.375000\n",
      "Epoch 40. Loss: 0.020433, Train acc 0.375292, Test acc 0.375000\n",
      "Epoch 41. Loss: 0.020428, Train acc 0.376875, Test acc 0.375000\n",
      "Epoch 42. Loss: 0.020423, Train acc 0.375578, Test acc 0.375000\n",
      "Epoch 43. Loss: 0.020418, Train acc 0.376214, Test acc 0.375000\n",
      "Epoch 44. Loss: 0.020413, Train acc 0.375992, Test acc 0.375000\n",
      "Epoch 45. Loss: 0.020409, Train acc 0.377789, Test acc 0.375000\n",
      "Epoch 46. Loss: 0.020404, Train acc 0.376686, Test acc 0.375000\n",
      "Epoch 47. Loss: 0.020399, Train acc 0.377539, Test acc 0.375000\n",
      "Epoch 48. Loss: 0.020394, Train acc 0.376444, Test acc 0.375000\n",
      "Epoch 49. Loss: 0.020389, Train acc 0.376767, Test acc 0.375000\n",
      "Epoch 50. Loss: 0.020384, Train acc 0.375550, Test acc 0.375000\n"
     ]
    }
   ],
   "source": [
    "import pickle\n",
    "\n",
    "from mxnet import autograd\n",
    "\n",
    "modelFileName = 'alert_params'\n",
    "\n",
    "num_epochs, learning_rate = 5000, 0.001\n",
    "\n",
    "for epoch in range(num_epochs):\n",
    "    train_loss = 0.\n",
    "    train_acc = 0.\n",
    "    for X, y in train_iter:\n",
    "        with autograd.record():\n",
    "            y_hat = net(X)\n",
    "            loss = cross_entropy(y_hat, y)\n",
    "        loss.backward()\n",
    "        \n",
    "        SGD(params, learning_rate / batch_size)\n",
    "        \n",
    "        train_loss += loss.mean().asscalar()\n",
    "        train_acc += accuracy(y_hat, y)\n",
    "        \n",
    "    test_acc = evaluate_accuracy(test_iter, net)\n",
    "\n",
    "    print(\"Epoch %d. Loss: %f, Train acc %f, Test acc %f\" % (\n",
    "        epoch + 1, train_loss/len(train_iter), train_acc/len(train_iter), test_acc))\n",
    "    \n",
    "    with open(modelFileName, 'wb') as output:\n",
    "        pickle.dump(params, output)\n"
   ]
  },
  {
   "cell_type": "code",
   "execution_count": 28,
   "metadata": {},
   "outputs": [
    {
     "data": {
      "text/plain": [
       "[\n",
       " [[-0.10827187  0.18334995 -0.03477932]\n",
       "  [-0.21827085  0.1682126   0.06846762]\n",
       "  [-0.34753585  0.11846986  0.21263735]\n",
       "  [-0.4481056   0.07690325  0.33079123]]\n",
       " <NDArray 4x3 @cpu(0)>, \n",
       " [-0.09693793  2.1330657  -2.036136  ]\n",
       " <NDArray 3 @cpu(0)>]"
      ]
     },
     "execution_count": 28,
     "metadata": {},
     "output_type": "execute_result"
    }
   ],
   "source": [
    "params"
   ]
  },
  {
   "cell_type": "code",
   "execution_count": 29,
   "metadata": {},
   "outputs": [],
   "source": [
    "import pickle\n",
    "\n",
    "modelFileName = 'alert_params'\n",
    "\n",
    "with open(modelFileName, 'wb') as output:\n",
    "    pickle.dump(params, output)"
   ]
  },
  {
   "cell_type": "code",
   "execution_count": null,
   "metadata": {},
   "outputs": [],
   "source": []
  }
 ],
 "metadata": {
  "kernelspec": {
   "display_name": "Python 3",
   "language": "python",
   "name": "python3"
  },
  "language_info": {
   "codemirror_mode": {
    "name": "ipython",
    "version": 3
   },
   "file_extension": ".py",
   "mimetype": "text/x-python",
   "name": "python",
   "nbconvert_exporter": "python",
   "pygments_lexer": "ipython3",
   "version": "3.6.7"
  }
 },
 "nbformat": 4,
 "nbformat_minor": 2
}

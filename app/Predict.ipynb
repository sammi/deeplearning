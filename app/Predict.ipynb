{
 "cells": [
  {
   "cell_type": "code",
   "execution_count": 1,
   "metadata": {},
   "outputs": [
    {
     "name": "stdout",
     "output_type": "stream",
     "text": [
      "\n",
      "[[-0.11886199  0.21297963 -0.05381821]\n",
      " [-0.23807634  0.18620823  0.07027933]\n",
      " [-0.37655973  0.12483058  0.23529913]\n",
      " [-0.48634696  0.07163007  0.3743011 ]]\n",
      "<NDArray 4x3 @cpu(0)> \n",
      "[-0.10615412  2.6317058  -2.5255435 ]\n",
      "<NDArray 3 @cpu(0)>\n"
     ]
    }
   ],
   "source": [
    "import pickle\n",
    "\n",
    "modelFileName = 'alert_params'\n",
    "\n",
    "with open(modelFileName, 'rb') as input:\n",
    "    W, b = pickle.load(input)\n",
    "    print(W, b)"
   ]
  },
  {
   "cell_type": "code",
   "execution_count": 2,
   "metadata": {},
   "outputs": [],
   "source": [
    "def softmax(X):\n",
    "    X_exp = nd.exp(X)\n",
    "    partition = X_exp.sum(axis=1, keepdims=True)\n",
    "    return X_exp / partition\n",
    "\n",
    "def net(X):\n",
    "    return softmax(nd.dot(X, W) + b)"
   ]
  },
  {
   "cell_type": "code",
   "execution_count": 13,
   "metadata": {},
   "outputs": [
    {
     "data": {
      "text/plain": [
       "(\n",
       " [[1. 2. 3. 4.]]\n",
       " <NDArray 1x4 @cpu(0)>, \n",
       " [[4.6613795e-04 9.8345900e-01 1.6074928e-02]]\n",
       " <NDArray 1x3 @cpu(0)>)"
      ]
     },
     "execution_count": 13,
     "metadata": {},
     "output_type": "execute_result"
    }
   ],
   "source": [
    "from mxnet import nd\n",
    "\n",
    "X = nd.array([1,2,3,4]).reshape((1,4))\n",
    "y = net(X)\n",
    "X, y"
   ]
  },
  {
   "cell_type": "code",
   "execution_count": null,
   "metadata": {},
   "outputs": [],
   "source": []
  }
 ],
 "metadata": {
  "kernelspec": {
   "display_name": "Python 3",
   "language": "python",
   "name": "python3"
  },
  "language_info": {
   "codemirror_mode": {
    "name": "ipython",
    "version": 3
   },
   "file_extension": ".py",
   "mimetype": "text/x-python",
   "name": "python",
   "nbconvert_exporter": "python",
   "pygments_lexer": "ipython3",
   "version": "3.6.7"
  }
 },
 "nbformat": 4,
 "nbformat_minor": 2
}

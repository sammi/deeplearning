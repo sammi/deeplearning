{
 "cells": [
  {
   "cell_type": "code",
   "execution_count": 1,
   "metadata": {},
   "outputs": [],
   "source": [
    "from mxnet import nd\n",
    "from mxnet.gluon.data import DataLoader\n",
    "from mxnet.gluon.data.dataset import ArrayDataset\n",
    "from multiprocessing import cpu_count\n",
    "import pandas as pd\n",
    "import numpy as np\n",
    "\n",
    "def load_data_alerts_from_csv(batch_size):\n",
    "    num_workers = 0\n",
    "    features = ['f1', 'f2', 'f3', 'f4']\n",
    "    label = ['a']\n",
    "\n",
    "    train_features = pd.read_csv('./data/alert/train.csv', usecols=features).values\n",
    "    train_labels = pd.read_csv('./data/alert/train.csv', usecols=label).values\n",
    "\n",
    "    test_features  = pd.read_csv('./data/alert/test.csv', usecols=features).values\n",
    "    test_labels  = pd.read_csv('./data/alert/test.csv', usecols=label).values\n",
    "\n",
    "    train_iter = DataLoader(\n",
    "        ArrayDataset(train_features.astype('float32'), train_labels),\n",
    "        shuffle=True,\n",
    "        batch_size = batch_size,\n",
    "        num_workers= num_workers\n",
    "    )\n",
    "\n",
    "    test_iter = DataLoader(\n",
    "        ArrayDataset(test_features.astype('float32'), test_labels),\n",
    "        batch_size = batch_size,\n",
    "        num_workers= num_workers\n",
    "    )\n",
    "    \n",
    "    return train_iter, test_iter"
   ]
  },
  {
   "cell_type": "code",
   "execution_count": 2,
   "metadata": {},
   "outputs": [],
   "source": [
    "import gluonbook as gb\n",
    "from mxnet import gluon, init\n",
    "from mxnet.gluon import loss as gloss, nn"
   ]
  },
  {
   "cell_type": "code",
   "execution_count": 3,
   "metadata": {},
   "outputs": [
    {
     "name": "stdout",
     "output_type": "stream",
     "text": [
      "(4, 4) (4, 1)\n"
     ]
    }
   ],
   "source": [
    "batch_size = 4\n",
    "train_iter, test_iter = load_data_alerts_from_csv(batch_size)\n",
    "\n",
    "for X, y in train_iter:\n",
    "    print(X.shape, y.shape)\n",
    "    break"
   ]
  },
  {
   "cell_type": "code",
   "execution_count": 4,
   "metadata": {},
   "outputs": [],
   "source": [
    "net = nn.Sequential()\n",
    "net.add(\n",
    "    nn.Dense(256, activation='relu'),\n",
    "    nn.Dense(10)\n",
    ")\n",
    "net.initialize(init.Normal(sigma=0.01))"
   ]
  },
  {
   "cell_type": "code",
   "execution_count": 5,
   "metadata": {},
   "outputs": [],
   "source": [
    "loss = gloss.SoftmaxCrossEntropyLoss()"
   ]
  },
  {
   "cell_type": "code",
   "execution_count": 6,
   "metadata": {},
   "outputs": [],
   "source": [
    "trainer = gluon.Trainer(net.collect_params(), 'sgd', {'learning_rate': 0.01})"
   ]
  },
  {
   "cell_type": "code",
   "execution_count": 7,
   "metadata": {},
   "outputs": [
    {
     "name": "stdout",
     "output_type": "stream",
     "text": [
      "epoch 1, loss 1.0709, train acc 0.448, test acc 1.500\n",
      "epoch 2, loss 0.2573, train acc 0.533, test acc 1.500\n",
      "epoch 3, loss 0.0874, train acc 0.524, test acc 1.500\n",
      "epoch 4, loss 0.0545, train acc 0.539, test acc 1.500\n",
      "epoch 5, loss 0.0374, train acc 0.531, test acc 1.500\n",
      "epoch 6, loss 0.0274, train acc 0.533, test acc 1.500\n",
      "epoch 7, loss 0.0209, train acc 0.524, test acc 1.500\n",
      "epoch 8, loss 0.0166, train acc 0.534, test acc 1.500\n",
      "epoch 9, loss 0.0135, train acc 0.532, test acc 1.500\n",
      "epoch 10, loss 0.0112, train acc 0.515, test acc 1.500\n"
     ]
    }
   ],
   "source": [
    "num_epochs = 10\n",
    "gb.train_ch3(net, train_iter, test_iter, loss, num_epochs, batch_size, None, None, trainer)"
   ]
  }
 ],
 "metadata": {
  "kernelspec": {
   "display_name": "Python 3",
   "language": "python",
   "name": "python3"
  },
  "language_info": {
   "codemirror_mode": {
    "name": "ipython",
    "version": 3
   },
   "file_extension": ".py",
   "mimetype": "text/x-python",
   "name": "python",
   "nbconvert_exporter": "python",
   "pygments_lexer": "ipython3",
   "version": "3.6.7"
  }
 },
 "nbformat": 4,
 "nbformat_minor": 2
}

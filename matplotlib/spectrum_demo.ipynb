{
 "cells": [
  {
   "cell_type": "code",
   "execution_count": null,
   "metadata": {},
   "outputs": [],
   "source": [
    "%matplotlib inline"
   ]
  },
  {
   "cell_type": "markdown",
   "metadata": {},
   "source": [
    "\n",
    "# Spectrum Representations\n",
    "\n",
    "\n",
    "The plots show different spectrum representations of a sine signal with\n",
    "additive noise. A (frequency) spectrum of a discrete-time signal is calculated\n",
    "by utilizing the fast Fourier transform (FFT).\n",
    "\n"
   ]
  },
  {
   "cell_type": "code",
   "execution_count": null,
   "metadata": {},
   "outputs": [],
   "source": [
    "import matplotlib.pyplot as plt\n",
    "import numpy as np\n",
    "\n",
    "\n",
    "np.random.seed(0)\n",
    "\n",
    "dt = 0.01  # sampling interval\n",
    "Fs = 1 / dt  # sampling frequency\n",
    "t = np.arange(0, 10, dt)\n",
    "\n",
    "# generate noise:\n",
    "nse = np.random.randn(len(t))\n",
    "r = np.exp(-t / 0.05)\n",
    "cnse = np.convolve(nse, r) * dt\n",
    "cnse = cnse[:len(t)]\n",
    "\n",
    "s = 0.1 * np.sin(4 * np.pi * t) + cnse  # the signal\n",
    "\n",
    "fig, axes = plt.subplots(nrows=3, ncols=2, figsize=(7, 7))\n",
    "\n",
    "# plot time signal:\n",
    "axes[0, 0].set_title(\"Signal\")\n",
    "axes[0, 0].plot(t, s, color='C0')\n",
    "axes[0, 0].set_xlabel(\"Time\")\n",
    "axes[0, 0].set_ylabel(\"Amplitude\")\n",
    "\n",
    "# plot different spectrum types:\n",
    "axes[1, 0].set_title(\"Magnitude Spectrum\")\n",
    "axes[1, 0].magnitude_spectrum(s, Fs=Fs, color='C1')\n",
    "\n",
    "axes[1, 1].set_title(\"Log. Magnitude Spectrum\")\n",
    "axes[1, 1].magnitude_spectrum(s, Fs=Fs, scale='dB', color='C1')\n",
    "\n",
    "axes[2, 0].set_title(\"Phase Spectrum \")\n",
    "axes[2, 0].phase_spectrum(s, Fs=Fs, color='C2')\n",
    "\n",
    "axes[2, 1].set_title(\"Angle Spectrum\")\n",
    "axes[2, 1].angle_spectrum(s, Fs=Fs, color='C2')\n",
    "\n",
    "axes[0, 1].remove()  # don't display empty ax\n",
    "\n",
    "fig.tight_layout()\n",
    "plt.show()"
   ]
  }
 ],
 "metadata": {
  "kernelspec": {
   "display_name": "Python 3",
   "language": "python",
   "name": "python3"
  },
  "language_info": {
   "codemirror_mode": {
    "name": "ipython",
    "version": 3
   },
   "file_extension": ".py",
   "mimetype": "text/x-python",
   "name": "python",
   "nbconvert_exporter": "python",
   "pygments_lexer": "ipython3",
   "version": "3.6.7"
  }
 },
 "nbformat": 4,
 "nbformat_minor": 1
}

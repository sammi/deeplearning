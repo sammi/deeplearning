{
 "cells": [
  {
   "cell_type": "code",
   "execution_count": null,
   "metadata": {},
   "outputs": [],
   "source": [
    "%matplotlib inline"
   ]
  },
  {
   "cell_type": "markdown",
   "metadata": {},
   "source": [
    "\n",
    "# Errorbar Limits\n",
    "\n",
    "\n",
    "Illustration of upper and lower limit symbols on errorbars\n",
    "\n"
   ]
  },
  {
   "cell_type": "code",
   "execution_count": null,
   "metadata": {},
   "outputs": [],
   "source": [
    "import numpy as np\n",
    "import matplotlib.pyplot as plt"
   ]
  },
  {
   "cell_type": "code",
   "execution_count": null,
   "metadata": {},
   "outputs": [],
   "source": [
    "fig = plt.figure(0)\n",
    "x = np.arange(10.0)\n",
    "y = np.sin(np.arange(10.0) / 20.0 * np.pi)\n",
    "\n",
    "plt.errorbar(x, y, yerr=0.1)\n",
    "\n",
    "y = np.sin(np.arange(10.0) / 20.0 * np.pi) + 1\n",
    "plt.errorbar(x, y, yerr=0.1, uplims=True)\n",
    "\n",
    "y = np.sin(np.arange(10.0) / 20.0 * np.pi) + 2\n",
    "upperlimits = np.array([1, 0] * 5)\n",
    "lowerlimits = np.array([0, 1] * 5)\n",
    "plt.errorbar(x, y, yerr=0.1, uplims=upperlimits, lolims=lowerlimits)\n",
    "\n",
    "plt.xlim(-1, 10)"
   ]
  },
  {
   "cell_type": "code",
   "execution_count": null,
   "metadata": {},
   "outputs": [],
   "source": [
    "fig = plt.figure(1)\n",
    "x = np.arange(10.0) / 10.0\n",
    "y = (x + 0.1)**2\n",
    "\n",
    "plt.errorbar(x, y, xerr=0.1, xlolims=True)\n",
    "y = (x + 0.1)**3\n",
    "\n",
    "plt.errorbar(x + 0.6, y, xerr=0.1, xuplims=upperlimits, xlolims=lowerlimits)\n",
    "\n",
    "y = (x + 0.1)**4\n",
    "plt.errorbar(x + 1.2, y, xerr=0.1, xuplims=True)\n",
    "\n",
    "plt.xlim(-0.2, 2.4)\n",
    "plt.ylim(-0.1, 1.3)\n",
    "\n",
    "plt.show()"
   ]
  }
 ],
 "metadata": {
  "kernelspec": {
   "display_name": "Python 3",
   "language": "python",
   "name": "python3"
  },
  "language_info": {
   "codemirror_mode": {
    "name": "ipython",
    "version": 3
   },
   "file_extension": ".py",
   "mimetype": "text/x-python",
   "name": "python",
   "nbconvert_exporter": "python",
   "pygments_lexer": "ipython3",
   "version": "3.6.7"
  }
 },
 "nbformat": 4,
 "nbformat_minor": 1
}

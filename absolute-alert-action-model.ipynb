{
 "cells": [
  {
   "cell_type": "code",
   "execution_count": 1,
   "metadata": {},
   "outputs": [],
   "source": [
    "from mxnet import nd\n",
    "W = nd.random.normal(scale=1, shape=(3, 3))\n",
    "x = nd.random.normal(scale=1, shape=(3))\n",
    "b = nd.random.normal(scale=1, shape=(3))"
   ]
  },
  {
   "cell_type": "code",
   "execution_count": 2,
   "metadata": {},
   "outputs": [
    {
     "data": {
      "text/plain": [
       "(\n",
       " [[ 1.1630785   0.4838046   0.29956347]\n",
       "  [ 0.15302546 -1.1688148   1.558071  ]\n",
       "  [-0.5459446  -2.3556297   0.54144025]]\n",
       " <NDArray 3x3 @cpu(0)>, \n",
       " [ 2.6785064   1.2546344  -0.54877406]\n",
       " <NDArray 3 @cpu(0)>, \n",
       " [-0.68106437 -0.1353156   0.37723133]\n",
       " <NDArray 3 @cpu(0)>)"
      ]
     },
     "execution_count": 2,
     "metadata": {},
     "output_type": "execute_result"
    }
   ],
   "source": [
    "W, x, b"
   ]
  },
  {
   "cell_type": "code",
   "execution_count": null,
   "metadata": {},
   "outputs": [],
   "source": [
    "def get_alert_label(labels):\n",
    "    text_labels=['Device Freez', 'Data Delete', 'Report Stolen Device']\n",
    "    return [text_labels[int(i) for i in labels]]"
   ]
  }
 ],
 "metadata": {
  "kernelspec": {
   "display_name": "Python 3",
   "language": "python",
   "name": "python3"
  },
  "language_info": {
   "codemirror_mode": {
    "name": "ipython",
    "version": 3
   },
   "file_extension": ".py",
   "mimetype": "text/x-python",
   "name": "python",
   "nbconvert_exporter": "python",
   "pygments_lexer": "ipython3",
   "version": "3.6.7"
  }
 },
 "nbformat": 4,
 "nbformat_minor": 2
}
